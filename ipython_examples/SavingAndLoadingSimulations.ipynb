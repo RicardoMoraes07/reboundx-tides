{
 "cells": [
  {
   "cell_type": "markdown",
   "metadata": {},
   "source": [
    "# Saving and Reloading Simulations\n",
    "\n",
    "Here we show how to save a binary field with all the parameters for particles and the simulation's REBOUNDx effects. We begin with a one planet system subject to general relativity corrections:"
   ]
  },
  {
   "cell_type": "code",
   "execution_count": 1,
   "metadata": {},
   "outputs": [
    {
     "name": "stdout",
     "output_type": "stream",
     "text": [
      "t = 0.0, pomega = 0.0\n"
     ]
    }
   ],
   "source": [
    "import rebound\n",
    "import numpy as np\n",
    "sim = rebound.Simulation()\n",
    "sim.add(m=1., hash=\"star\") # Sun\n",
    "sim.add(m=1.66013e-07,a=0.387098,e=0.205630, hash=\"planet\") # Mercury-like\n",
    "sim.move_to_com() # Moves to the center of momentum frame\n",
    "ps = sim.particles\n",
    "print(\"t = {0}, pomega = {1}\".format(sim.t, sim.particles[1].pomega))"
   ]
  },
  {
   "cell_type": "markdown",
   "metadata": {},
   "source": [
    "We add GR, and after integrating, see that the pericenter has moved:"
   ]
  },
  {
   "cell_type": "code",
   "execution_count": 2,
   "metadata": {},
   "outputs": [
    {
     "name": "stdout",
     "output_type": "stream",
     "text": [
      "t = 10.0, pomega = 3.418184768435803e-06\n"
     ]
    }
   ],
   "source": [
    "import reboundx\n",
    "rebx = reboundx.Extras(sim)\n",
    "gr = rebx.load_force(\"gr\")\n",
    "rebx.add_force(gr)\n",
    "from reboundx import constants\n",
    "gr.params[\"c\"] = constants.C\n",
    "sim.integrate(10.)\n",
    "print(\"t = {0}, pomega = {1}\".format(sim.t, sim.particles[1].pomega))"
   ]
  },
  {
   "cell_type": "markdown",
   "metadata": {
    "collapsed": true
   },
   "source": [
    "Now we add some arbitrary parameters to the planet:"
   ]
  },
  {
   "cell_type": "code",
   "execution_count": 3,
   "metadata": {},
   "outputs": [],
   "source": [
    "rebx.register_param('a', 'REBX_TYPE_INT')\n",
    "rebx.register_param('b', 'REBX_TYPE_INT')\n",
    "\n",
    "ps[1].params[\"a\"] = 1\n",
    "ps[1].params[\"b\"] = 2"
   ]
  },
  {
   "cell_type": "markdown",
   "metadata": {},
   "source": [
    "To save the simulation, we have to save a REBOUND binary to save the simulation, and a REBOUNDx binary to save the parameters and REBOUNDx effects:"
   ]
  },
  {
   "cell_type": "code",
   "execution_count": 4,
   "metadata": {},
   "outputs": [],
   "source": [
    "sim.save(\"reb.bin\")\n",
    "rebx.save(\"rebx.bin\")"
   ]
  },
  {
   "cell_type": "markdown",
   "metadata": {},
   "source": [
    "We can now reload the simulation and the rebx instance:"
   ]
  },
  {
   "cell_type": "code",
   "execution_count": 5,
   "metadata": {},
   "outputs": [
    {
     "name": "stderr",
     "output_type": "stream",
     "text": [
      "/Users/dtamayo/Documents/workspace/rebound/rebound/simulation.py:466: RuntimeWarning: You have to reset function pointers after creating a reb_simulation struct with a binary file.\n",
      "  warnings.warn(message, RuntimeWarning)\n"
     ]
    }
   ],
   "source": [
    "sim2 = rebound.Simulation(\"reb.bin\")\n",
    "rebx2 = reboundx.Extras(sim2, \"rebx.bin\")"
   ]
  },
  {
   "cell_type": "code",
   "execution_count": 6,
   "metadata": {},
   "outputs": [
    {
     "name": "stdout",
     "output_type": "stream",
     "text": [
      "Original: 1, Loaded: 1\n",
      "Original: 2, Loaded: 2\n",
      "Original: 10065.32012038219, Loaded: 10065.32012038219\n"
     ]
    }
   ],
   "source": [
    "ps2 = sim2.particles\n",
    "gr2 = rebx2.get_force(\"gr\")\n",
    "print(\"Original: {0}, Loaded: {1}\".format(ps[1].params[\"a\"], ps2[1].params[\"a\"]))\n",
    "print(\"Original: {0}, Loaded: {1}\".format(ps[1].params[\"b\"], ps2[1].params[\"b\"]))\n",
    "print(\"Original: {0}, Loaded: {1}\".format(gr.params[\"c\"], gr2.params[\"c\"]))"
   ]
  },
  {
   "cell_type": "markdown",
   "metadata": {},
   "source": [
    "We can now continue integrating as usual, and see that the pericenter continues to precess, so the GR effect has been successfully added to the loaded simulation:"
   ]
  },
  {
   "cell_type": "code",
   "execution_count": 7,
   "metadata": {},
   "outputs": [
    {
     "name": "stdout",
     "output_type": "stream",
     "text": [
      "t = 20.0, pomega = 6.317055505806844e-06\n"
     ]
    }
   ],
   "source": [
    "sim2.integrate(20.)\n",
    "print(\"t = {0}, pomega = {1}\".format(sim2.t, sim2.particles[1].pomega))"
   ]
  },
  {
   "cell_type": "code",
   "execution_count": null,
   "metadata": {},
   "outputs": [],
   "source": []
  }
 ],
 "metadata": {
  "kernelspec": {
   "display_name": "Python 3",
   "language": "python",
   "name": "python3"
  },
  "language_info": {
   "codemirror_mode": {
    "name": "ipython",
    "version": 3
   },
   "file_extension": ".py",
   "mimetype": "text/x-python",
   "name": "python",
   "nbconvert_exporter": "python",
   "pygments_lexer": "ipython3",
   "version": "3.7.1"
  }
 },
 "nbformat": 4,
 "nbformat_minor": 1
}
