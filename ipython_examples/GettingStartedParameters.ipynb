{
 "cells": [
  {
   "cell_type": "markdown",
   "metadata": {},
   "source": [
    "# Adding Parameters With REBOUNDx\n",
    "\n",
    "We start by creating a simulation, attaching REBOUNDx, and adding the effects of general relativity:"
   ]
  },
  {
   "cell_type": "code",
   "execution_count": 1,
   "metadata": {},
   "outputs": [],
   "source": [
    "import rebound\n",
    "import reboundx\n",
    "\n",
    "sim = rebound.Simulation()\n",
    "sim.add(m=1.)\n",
    "sim.add(a=1.)\n",
    "ps = sim.particles\n",
    "\n",
    "rebx = reboundx.Extras(sim)\n",
    "gr = rebx.load_force('gr')\n",
    "rebx.add_force(gr)"
   ]
  },
  {
   "cell_type": "markdown",
   "metadata": {},
   "source": [
    "The documentation page https://reboundx.readthedocs.io/en/latest/effects.html lists the various required and optional parameters that need to be set for each effect in REBOUNDx. Adding these parameters to particles, forces and operators is easy. We do it through the params attribute:"
   ]
  },
  {
   "cell_type": "code",
   "execution_count": 2,
   "metadata": {},
   "outputs": [],
   "source": [
    "ps[1].params['primary'] = 1\n",
    "gr.params['c'] = 3.e8"
   ]
  },
  {
   "cell_type": "markdown",
   "metadata": {},
   "source": [
    "We would now `sim.integrate` as usual. If we want, we can access these values later (e.g., some effects could update these values as the simulation progresses). Here they don't:"
   ]
  },
  {
   "cell_type": "code",
   "execution_count": 3,
   "metadata": {},
   "outputs": [
    {
     "data": {
      "text/plain": [
       "300000000.0"
      ]
     },
     "execution_count": 3,
     "metadata": {},
     "output_type": "execute_result"
    }
   ],
   "source": [
    "sim.integrate(10.)\n",
    "gr.params['c']"
   ]
  },
  {
   "cell_type": "markdown",
   "metadata": {},
   "source": [
    "# Details\n",
    "\n",
    "For simples types (ints and floats), assigning variables to parameters makes a **copy** of the value. For example:"
   ]
  },
  {
   "cell_type": "code",
   "execution_count": 4,
   "metadata": {},
   "outputs": [],
   "source": [
    "speed = 5\n",
    "gr.params['c'] = speed"
   ]
  },
  {
   "cell_type": "markdown",
   "metadata": {},
   "source": [
    "If we now update `speed`, this will not be reflected in our 'c' parameter:"
   ]
  },
  {
   "cell_type": "code",
   "execution_count": 5,
   "metadata": {},
   "outputs": [
    {
     "data": {
      "text/plain": [
       "5.0"
      ]
     },
     "execution_count": 5,
     "metadata": {},
     "output_type": "execute_result"
    }
   ],
   "source": [
    "speed = 10\n",
    "gr.params['c']"
   ]
  },
  {
   "cell_type": "markdown",
   "metadata": {},
   "source": [
    "More complicated objects are assigned as **pointers**. For example, adding REBOUNDx structures like forces works out of the box. As a simple example (with no meaning whatsoever):"
   ]
  },
  {
   "cell_type": "code",
   "execution_count": 6,
   "metadata": {},
   "outputs": [],
   "source": [
    "ps[1].params['force'] = gr"
   ]
  },
  {
   "cell_type": "markdown",
   "metadata": {},
   "source": [
    "Now if we update gr, the changes will be reflected in the 'force' parameter:"
   ]
  },
  {
   "cell_type": "code",
   "execution_count": 7,
   "metadata": {},
   "outputs": [
    {
     "data": {
      "text/plain": [
       "10.0"
      ]
     },
     "execution_count": 7,
     "metadata": {},
     "output_type": "execute_result"
    }
   ],
   "source": [
    "gr.params['c'] = 10\n",
    "newgr = ps[1].params['force']\n",
    "newgr.params['c']"
   ]
  },
  {
   "cell_type": "markdown",
   "metadata": {},
   "source": [
    "If the parameter doesn't exist REBOUNDx will raise an exception, which we can catch and handle however we want"
   ]
  },
  {
   "cell_type": "code",
   "execution_count": 8,
   "metadata": {},
   "outputs": [
    {
     "name": "stdout",
     "output_type": "stream",
     "text": [
      "No water on this planet\n"
     ]
    }
   ],
   "source": [
    "try:\n",
    "    waterfrac = ps[1].params['waterfrac']\n",
    "except:\n",
    "    print('No water on this planet')"
   ]
  },
  {
   "cell_type": "markdown",
   "metadata": {},
   "source": [
    "# Adding Your Own Parameters\n",
    "\n",
    "In order to go back and forth between Python and C, REBOUNDx keeps a list of registered parameter names with their corresponding types. This list is compiled from all the parameters used by the various forces and operators in REBOUNDx listed here: https://reboundx.readthedocs.io/en/latest/effects.html.\n",
    "\n",
    "If you try to add one that's not on the list, it will complain:"
   ]
  },
  {
   "cell_type": "code",
   "execution_count": 9,
   "metadata": {},
   "outputs": [
    {
     "name": "stdout",
     "output_type": "stream",
     "text": [
      "REBOUNDx Error: Parameter 'q' not found in REBOUNDx. Need to register it first.\n"
     ]
    }
   ],
   "source": [
    "try:\n",
    "    gr.params['q'] = 7\n",
    "except AttributeError as e:\n",
    "    print(e)"
   ]
  },
  {
   "cell_type": "markdown",
   "metadata": {},
   "source": [
    "You can register the name permanently on the C side, but can also do it from Python. You must pass a name along with one of the C types:"
   ]
  },
  {
   "cell_type": "code",
   "execution_count": 10,
   "metadata": {},
   "outputs": [
    {
     "data": {
      "text/plain": [
       "{'REBX_TYPE_NONE': 0,\n",
       " 'REBX_TYPE_DOUBLE': 1,\n",
       " 'REBX_TYPE_INT': 2,\n",
       " 'REBX_TYPE_POINTER': 3,\n",
       " 'REBX_TYPE_FORCE': 4}"
      ]
     },
     "execution_count": 10,
     "metadata": {},
     "output_type": "execute_result"
    }
   ],
   "source": [
    "from reboundx.extras import REBX_C_PARAM_TYPES\n",
    "REBX_C_PARAM_TYPES"
   ]
  },
  {
   "cell_type": "markdown",
   "metadata": {},
   "source": [
    "For example, say we want a double:"
   ]
  },
  {
   "cell_type": "code",
   "execution_count": 11,
   "metadata": {},
   "outputs": [
    {
     "data": {
      "text/plain": [
       "7.0"
      ]
     },
     "execution_count": 11,
     "metadata": {},
     "output_type": "execute_result"
    }
   ],
   "source": [
    "rebx.register_param(\"q\", \"REBX_TYPE_DOUBLE\")\n",
    "gr.params['q'] = 7\n",
    "gr.params['q']"
   ]
  },
  {
   "cell_type": "markdown",
   "metadata": {},
   "source": [
    "# Custom Parameters\n",
    "\n",
    "You can also add your own more complicated custom types (for example from another library) straightfowardly, with a couple caveats. First, the object must be wrapped as a ctypes object in order to communicate with the REBOUNDx C library, e.g."
   ]
  },
  {
   "cell_type": "code",
   "execution_count": 12,
   "metadata": {},
   "outputs": [],
   "source": [
    "from ctypes import *\n",
    "class SPH_sim(Structure):\n",
    "    _fields_ = [(\"dt\", c_double),\n",
    "                (\"Nparticles\", c_int)]\n",
    "\n",
    "my_sph_sim = SPH_sim()\n",
    "my_sph_sim.dt = 0.1\n",
    "my_sph_sim.Nparticles = 10000"
   ]
  },
  {
   "cell_type": "markdown",
   "metadata": {},
   "source": [
    "We also have to register it as a generic POINTER:"
   ]
  },
  {
   "cell_type": "code",
   "execution_count": 13,
   "metadata": {},
   "outputs": [],
   "source": [
    "rebx.register_param(\"sph\", \"REBX_TYPE_POINTER\")\n",
    "gr.params['sph'] = my_sph_sim"
   ]
  },
  {
   "cell_type": "markdown",
   "metadata": {},
   "source": [
    "Now when we get the parameter, REBOUNDx does not know how to cast it. You get a `ctypes.c_void_p` object back, which you have to manually cast to the Structure class we've created. See the ctypes library documentation for details:"
   ]
  },
  {
   "cell_type": "code",
   "execution_count": 14,
   "metadata": {},
   "outputs": [],
   "source": [
    "mysph = gr.params['sph']\n",
    "mysph = cast(mysph, POINTER(SPH_sim)).contents"
   ]
  },
  {
   "cell_type": "code",
   "execution_count": 15,
   "metadata": {},
   "outputs": [
    {
     "data": {
      "text/plain": [
       "0.1"
      ]
     },
     "execution_count": 15,
     "metadata": {},
     "output_type": "execute_result"
    }
   ],
   "source": [
    "mysph.dt"
   ]
  },
  {
   "cell_type": "markdown",
   "metadata": {},
   "source": [
    "# Caveats for Custom Parameters\n",
    "\n",
    "Since REBOUNDx does not know about the custom objects created in this way there are two main caveats.\n",
    "\n",
    "- The user is responsible for ensuring that the memory for their custom objects remains allocated. For example if the custom parameter is instantiated in a function and assigned as a parameter, but then leaves the function and gets garbage collected, this will obviously lead to undefined behavior! By contrast, REBOUNDx will retain memory for simple ints and floats, as well as any objects that it has created (e.g. forces or operators).\n",
    "\n",
    "- Custom parameters will not be written or read from REBOUNDx binaries"
   ]
  },
  {
   "cell_type": "code",
   "execution_count": null,
   "metadata": {},
   "outputs": [],
   "source": []
  }
 ],
 "metadata": {
  "kernelspec": {
   "display_name": "Python 3",
   "language": "python",
   "name": "python3"
  },
  "language_info": {
   "codemirror_mode": {
    "name": "ipython",
    "version": 3
   },
   "file_extension": ".py",
   "mimetype": "text/x-python",
   "name": "python",
   "nbconvert_exporter": "python",
   "pygments_lexer": "ipython3",
   "version": "3.7.1"
  }
 },
 "nbformat": 4,
 "nbformat_minor": 2
}
