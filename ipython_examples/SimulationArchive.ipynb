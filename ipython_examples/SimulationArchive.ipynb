{
 "cells": [
  {
   "cell_type": "markdown",
   "metadata": {},
   "source": [
    "# SimulationArchives with REBOUNDx\n",
    "\n",
    "We can reproduce `REBOUNDx` simulations with extra effects bit by bit with the `SimulationArchive` (see Rein & Tamayo 2017 for details), and make sure to read [SimulationArchive.ipynb](https://github.com/hannorein/rebound/blob/master/ipython_examples/SimulationArchive.ipynb) and [SimulationArchiveRestart.ipynb](https://github.com/hannorein/rebound/blob/master/ipython_examples/SimulationArchiveRestart.ipynb) first.\n",
    "\n",
    "However, this will only work under some conditions. In particular, for bit-by-bit reproducibility, currently one requires that:\n",
    "- All `REBOUNDx` effects in the simulation are machine independent (can't have, e.g., trig functions, pow or exp in implementation)\n",
    "- The effect and particle parameters cannot change throughout the simulation\n",
    "- Effects must remain on for the entire integration\n",
    "\n",
    "To use the `SimulationArchive` with REBOUNDx, we need to save a REBOUNDx binary [SavingAndLoadingSimulations.ipynb](https://github.com/dtamayo/reboundx/blob/master/ipython_examples/SavingAndLoadingSimulations.ipynb). Since we can't change effects or particle parameters, it doesn't matter at what point we save this binary (we will just need it to load the `SimulationArchive`). Here we do a `WHFAST` integration with the symplectic `gr_potential` implementation for general relativity corrections. We set up the simulation like we usually would:"
   ]
  },
  {
   "cell_type": "code",
   "execution_count": 1,
   "metadata": {},
   "outputs": [],
   "source": [
    "import rebound\n",
    "import reboundx\n",
    "from reboundx import constants\n",
    "\n",
    "sim = rebound.Simulation()\n",
    "sim.add(m=1.)\n",
    "sim.add(m=1e-3, a=1., e=0.2)\n",
    "sim.add(m=1e-3, a=1.9)\n",
    "sim.move_to_com()\n",
    "sim.dt = sim.particles[1].P*0.05  # timestep is 5% of orbital period\n",
    "sim.integrator = \"whfast\"\n",
    "rebx = reboundx.Extras(sim)\n",
    "gr = rebx.load_force(\"gr_potential\")\n",
    "rebx.add_force(gr)\n",
    "gr.params[\"c\"] = constants.C\n",
    "rebx.save(\"rebxarchive.bin\")"
   ]
  },
  {
   "cell_type": "markdown",
   "metadata": {},
   "source": [
    "We now set up the `SimulationArchive` and integrate like we normally would ([SimulationArchive.ipynb](https://github.com/hannorein/rebound/blob/master/ipython_examples/SimulationArchive.ipynb)):"
   ]
  },
  {
   "cell_type": "code",
   "execution_count": 2,
   "metadata": {},
   "outputs": [],
   "source": [
    "sim.automateSimulationArchive(\"archive.bin\", interval=1e3, deletefile=True)\n",
    "sim.integrate(1.e6)"
   ]
  },
  {
   "cell_type": "markdown",
   "metadata": {},
   "source": [
    "Once we're ready to inspect our simulation, we use the `reboundx.SimulationArchive` wrapper that additionally takes a `REBOUNDx` binary:"
   ]
  },
  {
   "cell_type": "code",
   "execution_count": 3,
   "metadata": {},
   "outputs": [
    {
     "name": "stdout",
     "output_type": "stream",
     "text": [
      "freeing reb\n",
      "deleting rebx\n"
     ]
    },
    {
     "name": "stderr",
     "output_type": "stream",
     "text": [
      "/Users/dtamayo/Documents/workspace/rebound/rebound/simulationarchive.py:132: RuntimeWarning: You have to reset function pointers after creating a reb_simulation struct with a binary file.\n",
      "  warnings.warn(message, RuntimeWarning)\n"
     ]
    }
   ],
   "source": [
    "sa = reboundx.SimulationArchive(\"archive.bin\", rebxfilename = \"rebxarchive.bin\")"
   ]
  },
  {
   "cell_type": "markdown",
   "metadata": {},
   "source": [
    "We now create a different simulation from a snapshot in the `SimulationArchive` halfway through:"
   ]
  },
  {
   "cell_type": "code",
   "execution_count": 4,
   "metadata": {},
   "outputs": [
    {
     "name": "stderr",
     "output_type": "stream",
     "text": [
      "/Users/dtamayo/Documents/workspace/rebound/rebound/simulationarchive.py:132: RuntimeWarning: You have to reset function pointers after creating a reb_simulation struct with a binary file.\n",
      "  warnings.warn(message, RuntimeWarning)\n"
     ]
    },
    {
     "data": {
      "text/plain": [
       "500000.311856871"
      ]
     },
     "execution_count": 4,
     "metadata": {},
     "output_type": "execute_result"
    }
   ],
   "source": [
    "sim2, rebx = sa[500]\n",
    "sim2.t"
   ]
  },
  {
   "cell_type": "markdown",
   "metadata": {},
   "source": [
    "We now integrate our loaded simulation to the same time as above (1.e6):"
   ]
  },
  {
   "cell_type": "code",
   "execution_count": 5,
   "metadata": {},
   "outputs": [],
   "source": [
    "sim2.integrate(1.e6)"
   ]
  },
  {
   "cell_type": "markdown",
   "metadata": {},
   "source": [
    "and see that we obtain exactly the same particle positions in the original and reloaded simulations:"
   ]
  },
  {
   "cell_type": "code",
   "execution_count": 6,
   "metadata": {},
   "outputs": [
    {
     "name": "stdout",
     "output_type": "stream",
     "text": [
      "---------------------------------\n",
      "REBOUND version:     \t3.9.0\n",
      "REBOUND built on:    \tAug 14 2019 16:20:52\n",
      "Number of particles: \t3\n",
      "Selected integrator: \twhfast\n",
      "Simulation time:     \t1.0000000000000000e+06\n",
      "Current timestep:    \t0.314002\n",
      "---------------------------------\n",
      "<rebound.Particle object, m=1.0 x=-0.00149879838100908 y=-0.0014917223762604642 z=0.0 vx=0.0007038998419940952 vy=-0.0011135636954973502 vz=0.0>\n",
      "<rebound.Particle object, m=0.001 x=1.1053055456447454 y=-0.17006122768891874 z=0.0 vx=0.06435746965618609 vy=0.8839283949646757 vz=0.0>\n",
      "<rebound.Particle object, m=0.001 x=0.39349288966790325 y=1.6617835641340981 z=0.0 vx=-0.7682573116501658 vy=0.22963530053233958 vz=0.0>\n",
      "---------------------------------\n"
     ]
    }
   ],
   "source": [
    "sim.status()"
   ]
  },
  {
   "cell_type": "code",
   "execution_count": 7,
   "metadata": {},
   "outputs": [
    {
     "name": "stdout",
     "output_type": "stream",
     "text": [
      "---------------------------------\n",
      "REBOUND version:     \t3.9.0\n",
      "REBOUND built on:    \tAug 14 2019 16:20:52\n",
      "Number of particles: \t3\n",
      "Selected integrator: \twhfast\n",
      "Simulation time:     \t1.0000000000000000e+06\n",
      "Current timestep:    \t0.314002\n",
      "---------------------------------\n",
      "<rebound.Particle object, m=1.0 x=-0.00149879838100908 y=-0.0014917223762604642 z=0.0 vx=0.0007038998419940952 vy=-0.0011135636954973502 vz=0.0>\n",
      "<rebound.Particle object, m=0.001 x=1.1053055456447454 y=-0.17006122768891874 z=0.0 vx=0.06435746965618609 vy=0.8839283949646757 vz=0.0>\n",
      "<rebound.Particle object, m=0.001 x=0.39349288966790325 y=1.6617835641340981 z=0.0 vx=-0.7682573116501658 vy=0.22963530053233958 vz=0.0>\n",
      "---------------------------------\n"
     ]
    }
   ],
   "source": [
    "sim2.status()"
   ]
  }
 ],
 "metadata": {
  "kernelspec": {
   "display_name": "Python 3",
   "language": "python",
   "name": "python3"
  },
  "language_info": {
   "codemirror_mode": {
    "name": "ipython",
    "version": 3
   },
   "file_extension": ".py",
   "mimetype": "text/x-python",
   "name": "python",
   "nbconvert_exporter": "python",
   "pygments_lexer": "ipython3",
   "version": "3.7.1"
  }
 },
 "nbformat": 4,
 "nbformat_minor": 1
}
