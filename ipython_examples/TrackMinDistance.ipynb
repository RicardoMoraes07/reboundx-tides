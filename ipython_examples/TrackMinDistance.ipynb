{
 "cells": [
  {
   "cell_type": "markdown",
   "metadata": {},
   "source": [
    "# Tracking a particle's minimum distance\n",
    "\n",
    "While you can always check particles' states after every call to `sim.integrate`, you might want to check for particular conditions every timestep that you would otherwise miss.  You could make the array of times to which you integrate increasingly finer, but this will slow things down, as will writing a Python function that gets called every timestep.  \n",
    "\n",
    "This notebook shows how to keep track of a particle's minimum distance from the central star using REBOUNDx to make sure everything is done quickly in C.  We first create a simulation:"
   ]
  },
  {
   "cell_type": "code",
   "execution_count": 1,
   "metadata": {},
   "outputs": [],
   "source": [
    "import rebound\n",
    "import reboundx\n",
    "import numpy as np\n",
    "sim = rebound.Simulation()\n",
    "sim.add(m=1., hash=\"Sun\")\n",
    "sim.add(a=1., e=0.5, f=np.pi)\n",
    "rebx= reboundx.Extras(sim)\n",
    "ps = sim.particles"
   ]
  },
  {
   "cell_type": "markdown",
   "metadata": {},
   "source": [
    "Now we add our effect, and for each particle whose distance we want to track, we have to add a `min_distance` parameter.  This parameter will automatically get updated to lower values any timestep where the particle's distance drops.  "
   ]
  },
  {
   "cell_type": "code",
   "execution_count": 2,
   "metadata": {},
   "outputs": [],
   "source": [
    "track = rebx.load_operator(\"track_min_distance\")\n",
    "rebx.add_operator(track)\n",
    "ps[1].params[\"min_distance\"] = 5."
   ]
  },
  {
   "cell_type": "markdown",
   "metadata": {},
   "source": [
    "By default, the effect calculates the distance from `sim.particles[0]`.  You can specify a different particle through its hash (added as a `min_distance_from` parameter to the particle we want to track).  So the following line is optional in our case:"
   ]
  },
  {
   "cell_type": "code",
   "execution_count": 3,
   "metadata": {},
   "outputs": [],
   "source": [
    "ps[1].params[\"min_distance_from\"] = ps[0].hash"
   ]
  },
  {
   "cell_type": "markdown",
   "metadata": {},
   "source": [
    "We might also be interested in what the orbit looks like at these special times.  We can add a `min_distance_orbit` parameter to our particle to store the instantaneous (heliocentric) orbit at the time corresponding to our `min_distance`.  We have to set it to a `rebound.Orbit` instance, so we make one (defaults to all zeros, but will get updated). \n",
    "\n",
    "Note that when we add objects as parameters, we're responsible for that memory, so we need to keep a reference to that object (like we do here with 'o'). If we did ``ps[1].params[\"min_distance_orbit\"] == rebound.Orbit()``, or did all of this within a function that later returned, python could think we're done with the rebound.Orbit() object and garbage collect it, causing undefined behavior."
   ]
  },
  {
   "cell_type": "code",
   "execution_count": 4,
   "metadata": {},
   "outputs": [],
   "source": [
    "o = rebound.Orbit()\n",
    "ps[1].params[\"min_distance_orbit\"] = o"
   ]
  },
  {
   "cell_type": "markdown",
   "metadata": {
    "collapsed": true
   },
   "source": [
    "We now integrate as usual, and see that the parameter has been updated:"
   ]
  },
  {
   "cell_type": "code",
   "execution_count": 5,
   "metadata": {},
   "outputs": [
    {
     "data": {
      "text/plain": [
       "0.5000033874136133"
      ]
     },
     "execution_count": 5,
     "metadata": {},
     "output_type": "execute_result"
    }
   ],
   "source": [
    "sim.integrate(10.)\n",
    "ps[1].params[\"min_distance\"]"
   ]
  },
  {
   "cell_type": "markdown",
   "metadata": {},
   "source": [
    "We can check the corresponding orbit.  In this two-body case most of the elements haven't changed, but we see our timestep caught it just past pericenter:"
   ]
  },
  {
   "cell_type": "code",
   "execution_count": 6,
   "metadata": {},
   "outputs": [
    {
     "name": "stdout",
     "output_type": "stream",
     "text": [
      "<rebound.Orbit instance, a=1.0000000000000004 e=0.5000000000000001 inc=0.0 Omega=0.0 omega=0.0 f=0.006375643156872779>\n"
     ]
    }
   ],
   "source": [
    "print(ps[1].params[\"min_distance_orbit\"])"
   ]
  },
  {
   "cell_type": "markdown",
   "metadata": {},
   "source": [
    "Let's try artificially moving our particle inward:"
   ]
  },
  {
   "cell_type": "code",
   "execution_count": 7,
   "metadata": {},
   "outputs": [],
   "source": [
    "ps[1].x /= 3.\n",
    "ps[1].y /= 3.\n",
    "ps[1].z /= 3."
   ]
  },
  {
   "cell_type": "markdown",
   "metadata": {},
   "source": [
    "Now if we keep integrating further, both `min_distance` and `min_distance_orbit` will get updated:"
   ]
  },
  {
   "cell_type": "code",
   "execution_count": 8,
   "metadata": {},
   "outputs": [
    {
     "name": "stdout",
     "output_type": "stream",
     "text": [
      "min_distance = 0.04968843347554442\n",
      "min_distance_orbit = <rebound.Orbit instance, a=0.1538902202417517 e=0.6771177440745271 inc=0.0 Omega=0.0 omega=-1.3844260994382367 f=0.0010937295115429624>\n"
     ]
    }
   ],
   "source": [
    "sim.integrate(20.)\n",
    "print(\"min_distance = {0}\".format(ps[1].params[\"min_distance\"]))\n",
    "print(\"min_distance_orbit = {0}\".format(ps[1].params[\"min_distance_orbit\"]))"
   ]
  },
  {
   "cell_type": "code",
   "execution_count": null,
   "metadata": {},
   "outputs": [],
   "source": []
  }
 ],
 "metadata": {
  "kernelspec": {
   "display_name": "Python 3",
   "language": "python",
   "name": "python3"
  },
  "language_info": {
   "codemirror_mode": {
    "name": "ipython",
    "version": 3
   },
   "file_extension": ".py",
   "mimetype": "text/x-python",
   "name": "python",
   "nbconvert_exporter": "python",
   "pygments_lexer": "ipython3",
   "version": "3.7.1"
  }
 },
 "nbformat": 4,
 "nbformat_minor": 1
}
